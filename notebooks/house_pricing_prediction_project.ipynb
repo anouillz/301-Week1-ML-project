{
 "cells": [
  {
   "cell_type": "code",
   "execution_count": 1,
   "id": "34d29e11",
   "metadata": {},
   "outputs": [],
   "source": [
    "import pandas as pd\n",
    "from isc301.config import housing_prices_raw_path"
   ]
  },
  {
   "cell_type": "code",
   "execution_count": null,
   "id": "2d0effca",
   "metadata": {},
   "outputs": [],
   "source": [
    "df = pd.read_csv(housing_prices_raw_path)\n",
    "df.head()"
   ]
  }
 ],
 "metadata": {
  "kernelspec": {
   "display_name": "isc301",
   "language": "python",
   "name": "python3"
  },
  "language_info": {
   "codemirror_mode": {
    "name": "ipython",
    "version": 3
   },
   "file_extension": ".py",
   "mimetype": "text/x-python",
   "name": "python",
   "nbconvert_exporter": "python",
   "pygments_lexer": "ipython3",
   "version": "3.13.7"
  }
 },
 "nbformat": 4,
 "nbformat_minor": 5
}
